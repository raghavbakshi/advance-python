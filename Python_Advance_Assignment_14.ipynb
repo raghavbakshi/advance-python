{
 "cells": [
  {
   "cell_type": "code",
   "execution_count": null,
   "id": "d5264b53",
   "metadata": {},
   "outputs": [],
   "source": [
    "1. Is an assignment operator such as += only a convenience? Can it actually result in faster performance at run time?\n"
   ]
  },
  {
   "cell_type": "code",
   "execution_count": null,
   "id": "8a84195d",
   "metadata": {},
   "outputs": [],
   "source": [
    "Ans.\n",
    "+= adds a number/string to a variable, changing the variable itself in the process. Meaning,\n",
    "( += ) adds the value of the right operand to a variable and assigns the result to the variable.\n",
    "Not really it result in faster performance because it take lesser time to operate and we dont require a new\n"
   ]
  },
  {
   "cell_type": "code",
   "execution_count": null,
   "id": "02b39bce",
   "metadata": {},
   "outputs": [],
   "source": [
    "2. In most computer languages, what is the minimum number of statements you’d need to write instead of the Python\n",
    "statement a, b = a + b, a?"
   ]
  },
  {
   "cell_type": "code",
   "execution_count": null,
   "id": "189b3e12",
   "metadata": {},
   "outputs": [],
   "source": [
    "Ans. In C programming it takes minimum 3 number of statement.\n",
    "c=a+b\n",
    "a=c\n",
    "b=a\n"
   ]
  },
  {
   "cell_type": "code",
   "execution_count": null,
   "id": "ec68dcc1",
   "metadata": {},
   "outputs": [],
   "source": [
    "3. What’s the most efficient way to initialize a list of 100 integers to 0 in Python?"
   ]
  },
  {
   "cell_type": "code",
   "execution_count": null,
   "id": "ec288b5f",
   "metadata": {},
   "outputs": [],
   "source": [
    "Ans. By using list comprehension in reverse order\n",
    "l=[i for i in range(100,-1,-1)]\n",
    "print(l)\n"
   ]
  },
  {
   "cell_type": "code",
   "execution_count": null,
   "id": "551c03bd",
   "metadata": {},
   "outputs": [],
   "source": [
    "4. What’s the most efficient way of initializing a list of 99 integers with the pattern 1, 2, 3 repeated?\n",
    "Show precisely how to do that, if possible."
   ]
  },
  {
   "cell_type": "code",
   "execution_count": null,
   "id": "bcf9e218",
   "metadata": {},
   "outputs": [],
   "source": [
    "l=[i for i in range(1,4)]\n",
    "l2=[]\n",
    "for i in range(33):\n",
    "    \n",
    "    l2.extend(l)\n",
    "    \n",
    "print(l2,'\\n')\n",
    "print(f'Number of integers ares: {len(l2)}')\n"
   ]
  },
  {
   "cell_type": "code",
   "execution_count": null,
   "id": "2a372df3",
   "metadata": {},
   "outputs": [],
   "source": [
    "5. If you’re running a Python program from within IDLE, describe how to most efficiently print a multidimensional list."
   ]
  },
  {
   "cell_type": "code",
   "execution_count": null,
   "id": "1c018c30",
   "metadata": {},
   "outputs": [],
   "source": [
    "It is very simple procedure. We first need a variable and assign it a multidimensional list.\n",
    "a = [[2, 4, 6, 8, 10], [3, 6, 9, 12, 15], [4, 8, 12, 16, 20]]\n",
    "print(a)\n"
   ]
  },
  {
   "cell_type": "code",
   "execution_count": null,
   "id": "3059a91d",
   "metadata": {},
   "outputs": [],
   "source": [
    "6. Can you use list comprehension on a string? If so, how?"
   ]
  },
  {
   "cell_type": "code",
   "execution_count": null,
   "id": "e8787108",
   "metadata": {},
   "outputs": [],
   "source": [
    "l=[i for i in 'raghav']\n",
    "print(l)\n"
   ]
  },
  {
   "cell_type": "code",
   "execution_count": null,
   "id": "aa33c2c0",
   "metadata": {},
   "outputs": [],
   "source": [
    "7. How can you get help on a user-written Python program from the command line? From within IDLE?"
   ]
  },
  {
   "cell_type": "code",
   "execution_count": null,
   "id": "8fcae76d",
   "metadata": {},
   "outputs": [],
   "source": [
    "help(print)\n",
    "Help on built-in function print in module builtins:\n",
    "\n",
    "print(...)\n",
    "    print(value, ..., sep=' ', end='\\n', file=sys.stdout, flush=False)\n",
    "    \n",
    "    Prints the values to a stream, or to sys.stdout by default.\n",
    "    Optional keyword arguments:\n",
    "    file:  a file-like object (stream); defaults to the current sys.stdout.\n",
    "    sep:   string inserted between values, default a space.\n",
    "    end:   string appended after the last value, default a newline.\n",
    "    flush: whether to forcibly flush the stream.\n",
    "\n"
   ]
  },
  {
   "cell_type": "code",
   "execution_count": null,
   "id": "44296d42",
   "metadata": {},
   "outputs": [],
   "source": [
    "8. Functions are said to be “first-class objects” in Python but not in most other languages, such as C++ or Java. \n",
    "What is something you can do with a Python function (callable object) that you cannot do in C or C++?"
   ]
  },
  {
   "cell_type": "code",
   "execution_count": null,
   "id": "5177569e",
   "metadata": {},
   "outputs": [],
   "source": [
    "Ans.\n",
    "In python there is a beautiful things which we can do with the function. It is called first class function because of the following reasons:\n",
    "1) It can be use as an argument\n",
    "2) It can be use in return by some other function\n",
    "3) It can be act as variable and we can assign some value to it\n"
   ]
  },
  {
   "cell_type": "code",
   "execution_count": null,
   "id": "c9a4babf",
   "metadata": {},
   "outputs": [],
   "source": [
    "9. What’s the difference between a wrapper, a wrapped function, and a decorator?"
   ]
  },
  {
   "cell_type": "code",
   "execution_count": null,
   "id": "b06495eb",
   "metadata": {},
   "outputs": [],
   "source": [
    "Wrappers: It also refers to decorators. It allows programmers to modify the behavior of function or class.\n",
    "Wrapper Function: Wrapper functions can be used as an interface to adapt to the existing codes, so as to save\n",
    "    from modifying the codes back and forth. It helps in allowing some codes to run repeadtedly.\n",
    "Decorators: It allows to wrap another function in order to extend the behavior of the wrapped function, \n",
    "    without permanently modifying it.\n"
   ]
  },
  {
   "cell_type": "code",
   "execution_count": null,
   "id": "a92a35d0",
   "metadata": {},
   "outputs": [],
   "source": [
    "10. When a function is a generator function, what does it return, if anything?"
   ]
  },
  {
   "cell_type": "code",
   "execution_count": null,
   "id": "340306b5",
   "metadata": {},
   "outputs": [],
   "source": [
    "Ans.\n",
    "Generator function is a kind of a iterable function which knows that what i have generated the last time and \n",
    "what it will give me the next time. Using return or print statement we can simply get every element which we\n",
    "have iterated upon immediately at once. But what if we want that we get the elemenet one by one as per our \n",
    "requrement. Here generator comes.\n",
    "We can also say that Generator is something which help in creating iterator sort of thing. We use yield keyword\n",
    "in place of return when we are dealing with generators. With the help of generator only it is not necessary to \n",
    "create an itertor from an iterables. We can make any thing an itertaor object.\n",
    "It do not stores all the items at once. Whatever the value we need, it catches and throw it out. Means whenever\n",
    "we need a next value to print we just call a next function over its object and it will give that value.\n"
   ]
  },
  {
   "cell_type": "code",
   "execution_count": null,
   "id": "45aaaa6b",
   "metadata": {},
   "outputs": [],
   "source": [
    "11. From the standpoint of the Python language,\n",
    "what is the one change that needs to be made to a function to turn it into a generator function?"
   ]
  },
  {
   "cell_type": "code",
   "execution_count": null,
   "id": "955aedfa",
   "metadata": {},
   "outputs": [],
   "source": [
    "Just replace return with yield\n",
    "def gen():\n",
    "    for i in range(10):\n",
    "        yield i\n",
    "a=iter(gen())\n",
    "a\n"
   ]
  },
  {
   "cell_type": "code",
   "execution_count": null,
   "id": "33dee6a8",
   "metadata": {},
   "outputs": [],
   "source": [
    "12. Name at least one advantage of generators."
   ]
  },
  {
   "cell_type": "code",
   "execution_count": null,
   "id": "f0f97f11",
   "metadata": {},
   "outputs": [],
   "source": [
    "It helps in creating an iterator which do not store all the items at once. This saves the memory and\n",
    "also system do not get hang.\n",
    "It takes the value one by one when we required and throw it out one by one by using next function when\n",
    "and only we required. It doesnot give the whole items at onces. It onlt gives when it is needed.\n"
   ]
  }
 ],
 "metadata": {
  "kernelspec": {
   "display_name": "Python 3",
   "language": "python",
   "name": "python3"
  },
  "language_info": {
   "codemirror_mode": {
    "name": "ipython",
    "version": 3
   },
   "file_extension": ".py",
   "mimetype": "text/x-python",
   "name": "python",
   "nbconvert_exporter": "python",
   "pygments_lexer": "ipython3",
   "version": "3.8.8"
  }
 },
 "nbformat": 4,
 "nbformat_minor": 5
}
