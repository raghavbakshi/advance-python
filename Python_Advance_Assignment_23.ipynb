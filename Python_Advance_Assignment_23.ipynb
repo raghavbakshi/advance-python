{
 "cells": [
  {
   "cell_type": "code",
   "execution_count": null,
   "id": "42214135",
   "metadata": {},
   "outputs": [],
   "source": [
    "3. What exactly is a histogram? Name one way of producing such a graph with numpy.\n",
    "Ans.\n",
    "Histogram is a type of a plot which hold the total number of counts or the percentile value in y-axis w.r.t. corresponding x-variables. When we say the number of counts it means that for a particular range in x-axis what will be the number of counts of the data points. When we talk about percentile it shows the probability occurrence of the x-variable or what percentage of data are below that particular percetile value w.r.t. particular x-variable range.\n",
    "Numpy has a built-in numpy. histogram() function\n"
   ]
  },
  {
   "cell_type": "code",
   "execution_count": null,
   "id": "03db514a",
   "metadata": {},
   "outputs": [],
   "source": [
    "4. How do you adjust the aspect ratios between the X and Y axes, if needed?\n",
    "Ans.\n",
    "We can use figure(figsize=(10,8)) function inside the matplot.pyplot library which we scale down or up the graph.\n",
    "figure(figsize=(10,8))\n"
   ]
  },
  {
   "cell_type": "code",
   "execution_count": null,
   "id": "acd712c1",
   "metadata": {},
   "outputs": [],
   "source": [
    "5. Summarize the differences in array multiplication between two arrays, as it is used in these three forms: dot product, outer product, and standard multiplication of two numpy arrays.\n",
    "In [2]:\n",
    "import numpy as np\n",
    "In [12]:\n",
    "a1=np.array([[1,2,3],[4,5,6],[6,7,8]])\n",
    "a2=np.array([[10,20,30],[40,50,60],[60,70,80]])\n",
    "\n",
    "# suppose above are the two arrays of shape 3 x 3\n",
    "\n",
    "print(a1)\n",
    "print()\n",
    "print(a2)\n",
    "#standard multiplication\n",
    "a1*a2\n",
    "# dot product\n",
    "np.dot(a1,a2)\n",
    "In case of dot product vector, multiplication will take place between row of first array and column of secodn array respectively. Like first row of array a1 will be multiply by column value of array a2 one by one and then added\n",
    "\n",
    "#outer multiplication\n",
    "np.outer(a1,a2)\n",
    "In outer multiplication every element of first array a1 will be multiply by every element of other array a2 such such the number of columns will be equal to the number of element in another array a2\n"
   ]
  },
  {
   "cell_type": "code",
   "execution_count": null,
   "id": "7fc55533",
   "metadata": {},
   "outputs": [],
   "source": [
    "6. Which numpy function could you use to calculate your monthly mortgage payment before you purchase a house?\n",
    "Ans.\n",
    "np.pmt(rate, nper, pv) function we will be using in order to calculate monthly mortgage payment before you purchase a house\n",
    "rate = The periodic interest rate\n",
    "nper = The number of payment periods\n",
    "pv = The total value of the mortgage loan\n"
   ]
  },
  {
   "cell_type": "code",
   "execution_count": null,
   "id": "e98242a9",
   "metadata": {},
   "outputs": [],
   "source": [
    "7. Can numpy arrays store string data? If so, state at least one limitation that is imposed on this data.\n",
    "Ans.\n",
    "Yes an array can store the string.\n",
    "The limitation which imposed on the string data is, whenever we store the data of string dtype then it should should keep in mind that the string which is having the maximum length is the limit.\n",
    "The dtype value is the maximum length of a string in such data. Meaning suppose if any new string we wanted to add, then we can add only that string which have the length either equal to that dtype value or less than tha. If any string which are adding and if its length is more than the dtype value then it will only accpet to maximum length and rest of the characters will not be included.\n"
   ]
  },
  {
   "cell_type": "code",
   "execution_count": null,
   "id": "96ee5e4d",
   "metadata": {},
   "outputs": [],
   "source": []
  }
 ],
 "metadata": {
  "kernelspec": {
   "display_name": "Python 3",
   "language": "python",
   "name": "python3"
  },
  "language_info": {
   "codemirror_mode": {
    "name": "ipython",
    "version": 3
   },
   "file_extension": ".py",
   "mimetype": "text/x-python",
   "name": "python",
   "nbconvert_exporter": "python",
   "pygments_lexer": "ipython3",
   "version": "3.8.8"
  }
 },
 "nbformat": 4,
 "nbformat_minor": 5
}
