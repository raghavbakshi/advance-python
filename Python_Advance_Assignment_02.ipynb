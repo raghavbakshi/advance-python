{
 "cells": [
  {
   "cell_type": "markdown",
   "id": "9cb0131d",
   "metadata": {},
   "source": [
    "# Q1. What is the relationship between classes and modules?"
   ]
  },
  {
   "cell_type": "markdown",
   "id": "4afdbd74",
   "metadata": {},
   "source": [
    "Modules are collections of Python classes, functions, constants, and other items that can be imported as needed."
   ]
  },
  {
   "cell_type": "markdown",
   "id": "53fea93b",
   "metadata": {},
   "source": [
    "# Q2. How do you make instances and classes?"
   ]
  },
  {
   "cell_type": "code",
   "execution_count": 1,
   "id": "21cf322a",
   "metadata": {},
   "outputs": [],
   "source": [
    "# create a class\n",
    "class car:\n",
    "    pass\n",
    "maruti = car()  "
   ]
  },
  {
   "cell_type": "markdown",
   "id": "0b99eda6",
   "metadata": {},
   "source": [
    "# Q3. Where and how should be class attributes created?"
   ]
  },
  {
   "cell_type": "code",
   "execution_count": null,
   "id": "127d948e",
   "metadata": {},
   "outputs": [],
   "source": [
    "Class attributes should be created just after the class name . Ideally it should be created before declaring __init__()\n",
    "class car:\n",
    "    maruti = \"we have the best cars\""
   ]
  },
  {
   "cell_type": "markdown",
   "id": "0ee8e450",
   "metadata": {},
   "source": [
    "# Q4. Where and how are instance attributes created?"
   ]
  },
  {
   "cell_type": "code",
   "execution_count": null,
   "id": "e9a82137",
   "metadata": {},
   "outputs": [],
   "source": [
    "Instance attributes should be created inside __init__()"
   ]
  },
  {
   "cell_type": "markdown",
   "id": "8d507aed",
   "metadata": {},
   "source": [
    "# Q5. What does the term \"self\" in a Python class mean?"
   ]
  },
  {
   "cell_type": "markdown",
   "id": "8e87a4b3",
   "metadata": {},
   "source": [
    "It is an instance of the class because it points to the current object and combines the arguments with the class's attributes. It allows us to access the class's characteristics, such as self(commonly used). Any other term will suffice."
   ]
  },
  {
   "cell_type": "markdown",
   "id": "f830e922",
   "metadata": {},
   "source": [
    "# Q6. How does a Python class handle operator overloading?"
   ]
  },
  {
   "cell_type": "markdown",
   "id": "3d7c0b97",
   "metadata": {},
   "source": [
    "It specifies class-level functionality. According to the definition of the operator defined in that class, the object of that class."
   ]
  },
  {
   "cell_type": "markdown",
   "id": "a6c45457",
   "metadata": {},
   "source": [
    "# Q7. When do you consider allowing operator overloading of your classes?"
   ]
  },
  {
   "cell_type": "code",
   "execution_count": null,
   "id": "d91716e6",
   "metadata": {},
   "outputs": [],
   "source": [
    "You can take advantage of the users' intuition by overloading standard operators on a class. This allows users to programme in the issue domain's language rather than the machine's language."
   ]
  },
  {
   "cell_type": "markdown",
   "id": "0a5d2365",
   "metadata": {},
   "source": [
    "# Q8. What is the most popular form of operator overloading?"
   ]
  },
  {
   "cell_type": "markdown",
   "id": "8c982014",
   "metadata": {},
   "source": [
    "\"+\" -- addition on integer class , concatenation on string class, append on list class"
   ]
  },
  {
   "cell_type": "markdown",
   "id": "9b5c6026",
   "metadata": {},
   "source": [
    "# Q9. What are the two most important concepts to grasp in order to comprehend Python OOP code?"
   ]
  },
  {
   "cell_type": "markdown",
   "id": "51d19786",
   "metadata": {},
   "source": [
    "Object and classes\n",
    "--Inheritance and data abstraction"
   ]
  }
 ],
 "metadata": {
  "kernelspec": {
   "display_name": "Python 3",
   "language": "python",
   "name": "python3"
  },
  "language_info": {
   "codemirror_mode": {
    "name": "ipython",
    "version": 3
   },
   "file_extension": ".py",
   "mimetype": "text/x-python",
   "name": "python",
   "nbconvert_exporter": "python",
   "pygments_lexer": "ipython3",
   "version": "3.8.8"
  }
 },
 "nbformat": 4,
 "nbformat_minor": 5
}
