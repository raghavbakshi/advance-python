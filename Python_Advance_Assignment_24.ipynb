{
 "cells": [
  {
   "cell_type": "code",
   "execution_count": null,
   "id": "3002560b",
   "metadata": {},
   "outputs": [],
   "source": [
    "1. Is it valid to use more than one import statement to import the same module more than once? What would be the purpose? Can you think of a scenario in which it would be useful?\n",
    "Ans.\n",
    "Yes we can use more than one import statement to import the same module more than once.\n",
    "This is com einto action when support we want to import some other function or class from the base class of any module for example.\n",
    "from sklearn.preprocessing import LabelEncoder\n",
    "from sklearn.linear_model import LinearRegression\n",
    "etc., etc,......\n"
   ]
  },
  {
   "cell_type": "code",
   "execution_count": null,
   "id": "da06d81e",
   "metadata": {},
   "outputs": [],
   "source": [
    "2. What are some attributes of a module? (Name at least one.)\n",
    "Ans.\n",
    "name : It returns the name of the module\n",
    "doc : It denotes the documentation string line written in a module code.\n",
    "file : It holds the name and path of the module file from which it is loaded\n",
    "dict : It return a dictionary object of module attributes, functions and other definitions and their respective values.\n"
   ]
  },
  {
   "cell_type": "code",
   "execution_count": null,
   "id": "3461d67a",
   "metadata": {},
   "outputs": [],
   "source": [
    "3. The use of circular importing— such as two modules importing each other— can create dependencies and hidden bugs. How might you design a program to avoid mutual importing?\n",
    "Ans.\n",
    "Circular importing means importing the two modules in each other. If suppose we are wokring in MOD1.py file and it is importing some function say F2() from some other module say MOD2.PY file or we can do vice-versa. What will happen is: This will give an import error.\n",
    "This is because when we import F2() function from module MOD2.py, then this will execute MOD2.py file. And in MOD2.py file there is an another statement of importing MOD1.py module. This will result in endless loop. To avoid this error just do one thing-\n",
    "We can use if name == 'main'\n",
    "In the function, you can't directly refer to the function in the program. The addition of this sentence avoids the endless loop of the program\n"
   ]
  },
  {
   "cell_type": "code",
   "execution_count": null,
   "id": "6c74f74c",
   "metadata": {},
   "outputs": [],
   "source": [
    "4. What is the purpose of _ all _ in Python?\n",
    "Ans.\n",
    "It specifies all the modules present in the particular library and those can be called when we use import *\n"
   ]
  },
  {
   "cell_type": "code",
   "execution_count": null,
   "id": "3af5cc0c",
   "metadata": {},
   "outputs": [],
   "source": [
    "5. In what situation is it useful to refer to the _ name attribute or the string ' main _'?\n",
    "Ans.\n",
    "During the time of execution of the code if we want to refer the module in which we are working on then we uses name attribute. In that case it will return the module in which we are working on. Suppose if that moudle is being imported from some other module then name will have the name of that moudle from where the current module has been imported. The current module in which we are working is refer to the string '_ main _'\n",
    "\n"
   ]
  },
  {
   "cell_type": "code",
   "execution_count": null,
   "id": "ad1768c5",
   "metadata": {},
   "outputs": [],
   "source": []
  }
 ],
 "metadata": {
  "kernelspec": {
   "display_name": "Python 3",
   "language": "python",
   "name": "python3"
  },
  "language_info": {
   "codemirror_mode": {
    "name": "ipython",
    "version": 3
   },
   "file_extension": ".py",
   "mimetype": "text/x-python",
   "name": "python",
   "nbconvert_exporter": "python",
   "pygments_lexer": "ipython3",
   "version": "3.8.8"
  }
 },
 "nbformat": 4,
 "nbformat_minor": 5
}
