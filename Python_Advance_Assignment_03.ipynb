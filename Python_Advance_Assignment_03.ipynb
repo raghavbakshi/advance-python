{
 "cells": [
  {
   "cell_type": "markdown",
   "id": "87ddd62c",
   "metadata": {},
   "source": [
    "# 1. What is the concept of an abstract superclass?"
   ]
  },
  {
   "cell_type": "markdown",
   "id": "930f7bed",
   "metadata": {},
   "source": [
    "A superclass that has numerous subclasses. Abstract classes are ones that have one or more abstract methods but do not contain the function's implementation.\n",
    "Child classes can inherit abstract classes, and the abstract method's implementation is defined in the child class.\n",
    "The abstract method is declared but not implemented."
   ]
  },
  {
   "cell_type": "markdown",
   "id": "aa0b28af",
   "metadata": {},
   "source": [
    "# 2. What happens when a class statement's top level contains a basic assignment statement?"
   ]
  },
  {
   "cell_type": "markdown",
   "id": "3c548bd5",
   "metadata": {},
   "source": [
    "They become class variables, which are created at the class level and can be updated for that specific object only using a class reference (permanently) or an object (temporarily)."
   ]
  },
  {
   "cell_type": "markdown",
   "id": "07170ebd",
   "metadata": {},
   "source": [
    "# 3. Why does a class need to manually call a superclass's __init__ method?"
   ]
  },
  {
   "cell_type": "markdown",
   "id": "8327f46d",
   "metadata": {},
   "source": [
    "If we don't call superclass's __init__() in the child class, the instance variable or class variable mentioned inside __init__() isn't executed."
   ]
  },
  {
   "cell_type": "markdown",
   "id": "0971f802",
   "metadata": {},
   "source": [
    "# 4. How can you augment, instead of completely replacing, an inherited method?"
   ]
  },
  {
   "cell_type": "markdown",
   "id": "5ddee2fb",
   "metadata": {},
   "source": [
    "We can rewrite the same function and then manually call the superclass version of the method from the child class's new version."
   ]
  },
  {
   "cell_type": "markdown",
   "id": "e6e1b0a9",
   "metadata": {},
   "source": [
    "# 5. How is the local scope of a class different from that of a function?"
   ]
  },
  {
   "cell_type": "markdown",
   "id": "9440e188",
   "metadata": {},
   "source": [
    "The function's scope is limited to that single function only, regardless of where it is called, and the class's scope is limited to the object of that class."
   ]
  }
 ],
 "metadata": {
  "kernelspec": {
   "display_name": "Python 3",
   "language": "python",
   "name": "python3"
  },
  "language_info": {
   "codemirror_mode": {
    "name": "ipython",
    "version": 3
   },
   "file_extension": ".py",
   "mimetype": "text/x-python",
   "name": "python",
   "nbconvert_exporter": "python",
   "pygments_lexer": "ipython3",
   "version": "3.8.8"
  }
 },
 "nbformat": 4,
 "nbformat_minor": 5
}
