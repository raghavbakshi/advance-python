{
 "cells": [
  {
   "cell_type": "code",
   "execution_count": null,
   "id": "f928aab7",
   "metadata": {},
   "outputs": [],
   "source": [
    "1. Compare and contrast the advantages and disadvantages of the float and Decimal classes.\n",
    "Ans.\n",
    "Decimal class\n",
    "•Provides support for fast correctly-rounded decimal floating point arithmetic.\n",
    "•It gives the provison to represent the number in a representative way so that it is clearly undertood by the user.\n",
    "•give you the exact arithmatic operation result like we use to do normally,\n",
    "•Object exposes all required parts of the standard. When needed, we can change the rounding and signal handling. This includes an option to enforce exact arithmetic by using exceptions to block any inexact operations.\n",
    "•Objects share many properties with the other built-in numeric types such as float and int. All of the usual math operations and special methods apply.\n",
    "•It can be constructed from integers, strings, floats, or tuples. Construction from an integer or a float performs an exact conversion of the value of that integer or float.\n",
    "•It is faster way to get precise value which we human work and have a smaller range than the float\n",
    "•Decimal types are better suited for financial and monetary calculations\n",
    "•The Decimal has a default precision of 28 places\n",
    "Floating class\n",
    "•It do not represent the exact precise value value.\n",
    "•It gives the value close to the result.\n",
    "•The float object exposes only a modest portion of its capabilities\n",
    "•Some values cannot be exactly represented in a float data type. For instance, storing the 0.1 value in float (which is a binary floating point value) variable we get only an approximation of the value. Similarly, the 1/3 value cannot be represented exactly in decimal floating point type.\n",
    "•Float types is best suited for scientific calculations\n",
    "•The float has default precision of 18 places.\n"
   ]
  },
  {
   "cell_type": "code",
   "execution_count": 1,
   "id": "c4633884",
   "metadata": {},
   "outputs": [
    {
     "name": "stdout",
     "output_type": "stream",
     "text": [
      "Object `states` not found.\n"
     ]
    }
   ],
   "source": [
    "2. Consider two objects: Decimal('1.200') and Decimal('1.2'). In what sense are these the same object? Are these just two ways of representing the exact same value, or do they correspond to different internal states?\n",
    "\n",
    "from decimal import Decimal\n",
    "d1=Decimal('1.200')\n",
    "d2=Decimal('1.2')\n",
    "\n"
   ]
  },
  {
   "cell_type": "code",
   "execution_count": 2,
   "id": "b44a57fd",
   "metadata": {},
   "outputs": [
    {
     "data": {
      "text/plain": [
       "True"
      ]
     },
     "execution_count": 2,
     "metadata": {},
     "output_type": "execute_result"
    }
   ],
   "source": [
    "d1 == d2\n",
    "\n"
   ]
  },
  {
   "cell_type": "code",
   "execution_count": 3,
   "id": "a0c3c119",
   "metadata": {},
   "outputs": [
    {
     "data": {
      "text/plain": [
       "False"
      ]
     },
     "execution_count": 3,
     "metadata": {},
     "output_type": "execute_result"
    }
   ],
   "source": [
    "\n",
    "d1 is d2\n"
   ]
  },
  {
   "cell_type": "code",
   "execution_count": 4,
   "id": "f033092d",
   "metadata": {},
   "outputs": [
    {
     "name": "stdout",
     "output_type": "stream",
     "text": [
      "1.200\n"
     ]
    },
    {
     "data": {
      "text/plain": [
       "1.2"
      ]
     },
     "execution_count": 4,
     "metadata": {},
     "output_type": "execute_result"
    }
   ],
   "source": [
    "print(d1)\n",
    "1.200\n"
   ]
  },
  {
   "cell_type": "code",
   "execution_count": 5,
   "id": "52664c22",
   "metadata": {},
   "outputs": [
    {
     "name": "stdout",
     "output_type": "stream",
     "text": [
      "1.2\n"
     ]
    }
   ],
   "source": [
    "\n",
    "print(d2)"
   ]
  },
  {
   "cell_type": "code",
   "execution_count": null,
   "id": "8a0b41f2",
   "metadata": {},
   "outputs": [],
   "source": [
    "By looking at the value it is not equal. This can be seen if we use is operator to check for d1 and d2. \n",
    "If we print the d1 and d2 we do not get the same value but still it will shwo the equality this is because \n",
    "the normalised value of both the object is same. But both the objects are same as they both give the same \n",
    "normalised value.\n",
    "Another way to represent them is in the form of normlaization\n"
   ]
  },
  {
   "cell_type": "code",
   "execution_count": null,
   "id": "5d40112d",
   "metadata": {},
   "outputs": [],
   "source": [
    "5. How easy is it to combine Decimal objects with integers in an arithmetic expression?\n",
    "Ans.\n",
    "It is that much easy as we do normal calculation. How ever if we do not specify the number as a string then in order to get in decimal form we fisrt need to convert the value from float into decimal object and use the round method to get the precise value.\n",
    "\n",
    "o1=Decimal('10.00')\n",
    "print(o1+10)\n",
    "\n",
    "d=Decimal(10)\n",
    "print(round(d+10,2))\n",
    "\n",
    "f=100\n",
    "print(round(f,4))\n",
    "\n",
    "#here we don not have specified the Decimal class so here we do not get the precise value\n",
    "100\n"
   ]
  },
  {
   "cell_type": "code",
   "execution_count": null,
   "id": "067e0df1",
   "metadata": {},
   "outputs": [],
   "source": [
    "6. How easy is it to combine Decimal objects and floating-point values?\n",
    "\n",
    "d1=Decimal(10)\n",
    "f=10.0\n",
    "print(d1+f)\n",
    "---------------------------------------------------------------------------\n",
    "TypeError                                 Traceback (most recent call last)\n",
    "<ipython-input-105-1d41578a3c2e> in <module>\n",
    "      1 d1=Decimal(10)\n",
    "      2 f=10.0\n",
    "----> 3 print(d1+f)\n",
    "\n",
    "TypeError: unsupported operand type(s) for +: 'decimal.Decimal' and 'float'\n",
    "As we see in the above example combining decimal object with floating value gives an error. To remove this erro we need to first convert the floating point value into decimal object by using using Decimal class and then we can use round function to get a value precised upto given number.\n",
    "example is given below\n",
    "d1=Decimal(10)\n",
    "f=10.0\n",
    "print(round(d1+Decimal(f),1))\n",
    "\n"
   ]
  },
  {
   "cell_type": "code",
   "execution_count": null,
   "id": "02b531fb",
   "metadata": {},
   "outputs": [],
   "source": []
  },
  {
   "cell_type": "code",
   "execution_count": null,
   "id": "9110f441",
   "metadata": {},
   "outputs": [],
   "source": [
    "7. Give an example of a quantity that can be represented with absolute precision by using the Fraction class but not the Decimal class.\n",
    "\n",
    "d=0.1+0.1+0.1\n",
    "print(d)\n",
    "d=Decimal(0.1)+Decimal(0.1)+Decimal(0.1)\n",
    "print(d)\n",
    "Here we see that the quantity that can be represemted with abosulte precision by using fraction value is 18 while decimal class it has 28\n"
   ]
  },
  {
   "cell_type": "code",
   "execution_count": null,
   "id": "76f46658",
   "metadata": {},
   "outputs": [],
   "source": [
    "8. Give an example of a quantity that can be represented exactly by either the Decimal or Fraction class but not by a floating-point value.\n",
    "\n",
    "d1=Decimal('1.000000')\n",
    "print(d1)\n",
    "d2=1.000000\n",
    "print(d2)\n",
    "\n"
   ]
  },
  {
   "cell_type": "code",
   "execution_count": null,
   "id": "4ce7b48e",
   "metadata": {},
   "outputs": [],
   "source": [
    "9. Consider two Fraction objects: Fraction(1, 2) and Fraction(5, 10). Do these two objects have the same internal state? Why or why not?\n",
    "\n",
    "from fractions import Fraction\n",
    "\n",
    "f1=Fraction(1,2)\n",
    "print(f1)\n",
    "\n",
    "f2=Fraction(5,10)\n",
    "print(f2)\n",
    "\n",
    "Internal state of both the objects are not same. Though they give the same out output. It is because the fraction class will calculate for the further simplication till the result remains in fraction form\n"
   ]
  },
  {
   "cell_type": "code",
   "execution_count": null,
   "id": "63b206eb",
   "metadata": {},
   "outputs": [],
   "source": [
    "10. What is the relationship between the Fraction class and the integer type (int)? Containment or inheritance?\n",
    "Ans. Fraction class contains the pair of intgers values as numerator and denomenator and gives the result in the\n",
    "form of fraction. Since the values are belong to integer class an these class object are using by another object\n",
    "of fraction class. So here Containment is happening.\n",
    "\n",
    "n=10\n",
    "d=7\n",
    "f=Fraction(n,d)\n",
    "print(f)\n",
    "10/7\n",
    "\n"
   ]
  }
 ],
 "metadata": {
  "kernelspec": {
   "display_name": "Python 3",
   "language": "python",
   "name": "python3"
  },
  "language_info": {
   "codemirror_mode": {
    "name": "ipython",
    "version": 3
   },
   "file_extension": ".py",
   "mimetype": "text/x-python",
   "name": "python",
   "nbconvert_exporter": "python",
   "pygments_lexer": "ipython3",
   "version": "3.8.8"
  }
 },
 "nbformat": 4,
 "nbformat_minor": 5
}
