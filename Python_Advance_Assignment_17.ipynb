{
 "cells": [
  {
   "cell_type": "code",
   "execution_count": null,
   "id": "e3f6bd06",
   "metadata": {},
   "outputs": [],
   "source": [
    "Q1. Explain the difference between greedy and non-greedy syntax with visual terms in as few words as possible. What is the bare minimum effort required to transform a greedy pattern into a non-greedy one? What characters or characters can you introduce or change?\n",
    "\n",
    "Example: Greedy pattern matching\n",
    "#!/usr/bin/perl\n",
    "\n",
    "# Perl program to show greedy matching\n",
    "$var = \"Geeks For Geeks\";\n",
    "\n",
    "# Matching pattern from k to s\n",
    "$var =~ /(k.*s)(.*)$/;\n",
    "\n",
    "# Printing the resultant string\n",
    "print($1, \"\\n\");\n",
    "\n",
    "Example: Non-greedy pattern matching\n",
    "#!/usr/bin/perl\n",
    "\n",
    "# Perl program to show non-greedy matching\n",
    "my $str = \"Geeks For Geeks\";\n",
    "\n",
    "# Matching pattern from k to s\n",
    "$str =~ /.*?\\s(.*)/;\n",
    "\n",
    "# Printing Resultant string\n",
    "print($1);\n",
    "\n"
   ]
  },
  {
   "cell_type": "code",
   "execution_count": null,
   "id": "00b8c489",
   "metadata": {},
   "outputs": [],
   "source": [
    "Q2. When exactly does greedy versus non-greedy make a difference?  What if you're looking for a non-greedy match but the only one available is greedy?\n",
    "\n",
    "In greedy approach regex pattern tend to consume maximum characters in a source string.For example\n",
    "\n",
    "textstr = \"bcabdcab\"\n",
    "textstr.gsub!(/(.*)ab/, \"xxx\")  \n",
    "# this will match whole `bcabdcab` and return `xxx`\n",
    "\n",
    "Here * is a greedy quantifier.In non greedy approach regex engine returns when it satisfies the matching criteria.To make a quantifier non-greedy append ?\n",
    "\n",
    "textstr = \"bcabdcab\"\n",
    "textstr.gsub!(/(.*?)ab/, \"xxx\")  \n",
    "# this will match only `bcab` part and return `xxxdcab`\n",
    "\n",
    "\n"
   ]
  },
  {
   "cell_type": "code",
   "execution_count": null,
   "id": "d2733001",
   "metadata": {},
   "outputs": [],
   "source": [
    "Q3. In a simple match of a string, which looks only for one match and does not do any replacement, is the use of a nontagged group likely to make any practical difference?\n",
    "\n",
    "Regular expressions are useful in any scenario that benefits from full or partial pattern matches on strings. These are some common use cases:\n",
    "verify the structure of strings\n",
    "extract substrings form structured strings\n",
    "search / replace / rearrange parts of the string\n",
    "split a string into tokens\n",
    "\n"
   ]
  },
  {
   "cell_type": "code",
   "execution_count": null,
   "id": "062fc807",
   "metadata": {},
   "outputs": [],
   "source": [
    "\n",
    "\n",
    "Q4. Describe a scenario in which using a nontagged category would have a significant impact on the program's outcomes.\n",
    "Workflow forms appear under the tag name in the Web Console. If you leave the Tags property empty for a form, the form appears under the Untagged category. If none of the workflow forms have tags, the forms appear without grouping. For information about workflow forms, see\n",
    "\n"
   ]
  },
  {
   "cell_type": "code",
   "execution_count": null,
   "id": "857a377b",
   "metadata": {},
   "outputs": [],
   "source": [
    "\n",
    "Q5. Unlike a normal regex pattern, a look-ahead condition does not consume the characters it examines. Describe a situation in which this could make a difference in the results of your programme.\n",
    "# importing regex\n",
    "import re\n",
    "\n",
    "# lookahead example\n",
    "example = re.search(r'geeks(?=[a-z])', \"geeksforgeeks\")\n",
    "\n",
    "# display output\n",
    "print(\"Pattern:\", example.group())\n",
    "print(\"Pattern found from index:\",\n",
    "\texample.start(), \"to\",\n",
    "\texample.end())\n"
   ]
  },
  {
   "cell_type": "code",
   "execution_count": null,
   "id": "44b97c1b",
   "metadata": {},
   "outputs": [],
   "source": [
    "\n",
    "\n",
    "Q6. In standard expressions, what is the difference between positive look-ahead and negative look-ahead?\n",
    "# import required module\n",
    "import re\n",
    "\n",
    "# positive lookahead\n",
    "example1 = re.search('geeks(?=[a-z])',\n",
    "\t\t\t\t\t'geeksforgeeks')\n",
    "print('Positive Lookahead:', example1.group())\n",
    "\n",
    "# negative lookahead\n",
    "example2 = re.search('geeks(?![a-z])',\n",
    "\t\t\t\t\t'geeks123')\n",
    "print('Negative Lookahead:', example2.group())\n",
    "\n"
   ]
  },
  {
   "cell_type": "code",
   "execution_count": null,
   "id": "585ff08a",
   "metadata": {},
   "outputs": [],
   "source": [
    "\n",
    "Q7. What is the benefit of referring to groups by name rather than by number in a standard expression?\n",
    "\n",
    "This is followed by an optional character and a space. The third named group is year. This consists of 1 or more digits. The advantage to named groups is that it adds readability and understandability to the code, so that you can easily see what part of a regular expression match is being referenced.\n",
    "\n"
   ]
  },
  {
   "cell_type": "code",
   "execution_count": null,
   "id": "2e5d4a9a",
   "metadata": {},
   "outputs": [],
   "source": [
    "Q8. Can you identify repeated items within a target string using named groups, as in \"The cow jumped over the moon\"?\n",
    "\n",
    "using std::regex;\n",
    "using std::regex_replace;\n",
    "using std::string;\n",
    "\n",
    "regex reg1(\"([A-Za-z]+) \\\\1\");  // Find double word.\n",
    "string replacement = \"$1\";      // Replace with one word.\n",
    "string target = \"The cow cow jumped over the the moon.\";\n",
    "string result = regex_replace(target, reg1, replacement);\n",
    "std::cout << result << std::endl;\n",
    "\n",
    "\n",
    "\n",
    "\n"
   ]
  },
  {
   "cell_type": "code",
   "execution_count": null,
   "id": "49acf334",
   "metadata": {},
   "outputs": [],
   "source": [
    "Q9. When parsing a string, what is at least one thing that the Scanner interface does for you that the re.findall feature does not?\n",
    "\n",
    "\n",
    "findall() Return all non-overlapping matches of pattern in string, as a list of strings. The string is scanned left-to-right, and matches are returned in the order found.\n",
    "\n",
    "\n"
   ]
  },
  {
   "cell_type": "code",
   "execution_count": null,
   "id": "321e46c5",
   "metadata": {},
   "outputs": [],
   "source": [
    "Q10. Does a scanner object have to be named scanner?\n",
    "Ans: No"
   ]
  }
 ],
 "metadata": {
  "kernelspec": {
   "display_name": "Python 3",
   "language": "python",
   "name": "python3"
  },
  "language_info": {
   "codemirror_mode": {
    "name": "ipython",
    "version": 3
   },
   "file_extension": ".py",
   "mimetype": "text/x-python",
   "name": "python",
   "nbconvert_exporter": "python",
   "pygments_lexer": "ipython3",
   "version": "3.8.8"
  }
 },
 "nbformat": 4,
 "nbformat_minor": 5
}
