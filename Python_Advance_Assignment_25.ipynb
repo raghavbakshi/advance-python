{
 "cells": [
  {
   "cell_type": "code",
   "execution_count": null,
   "id": "09c4d289",
   "metadata": {},
   "outputs": [],
   "source": [
    "1. Is there any difference between a numpy array and a pandas data frame? If there is, how do you convert between the two?\n",
    "Ans.\n",
    "Numpy array:\n",
    "This is in the form of matrix structure which have rows and columns. It generally performs python mathematical operation which is not genrally easy manually to perfomr in coding case. It may be of any dimensions like 1-d, 2-d, 3-d, 4-d, etc depend upon the use to requirement. Unlike dataframe, numpy array are not in a tabular form which ahve records and have fields instead it is in the form of matrices. It can have single row and single column as well but dataframe poses more than one column\n",
    "DataFrame:\n",
    "This is a kind of tabular structure format which are having more than one column. Unlike numpy array which can have more single as well as many number of columns, but dataframe have more than one column. Dataframe can have any number of dimensons but it should be more than one. We can use numpy array operation in dataframe and can also convert the numpy array into dataframe\n",
    "We can convert between the two in following manner:\n",
    "\n",
    "import pandas as pd\n",
    "import numpy as np\n",
    "\n",
    "array=np.arange(10).reshape(2,5)\n",
    "df=pd.DataFrame(array)\n",
    "df.to_numpy()\n",
    "\n",
    "\n"
   ]
  },
  {
   "cell_type": "code",
   "execution_count": null,
   "id": "2f495c5e",
   "metadata": {},
   "outputs": [],
   "source": [
    "3. Name some of the plotting methods used to create a stock-market chart.\n",
    "Ans:\n",
    "•\tLINE CHART:\n",
    "•\tPOINT AND FIGURE CHART:\n",
    "•\tCANDLESTICK CHART:\n",
    "•\tBAR CHART:\n"
   ]
  },
  {
   "cell_type": "code",
   "execution_count": null,
   "id": "f89d8a48",
   "metadata": {},
   "outputs": [],
   "source": [
    "4. In a stock-market chart, why is it important to print a legend? (Note: We’re not talking about Hercules, King Arthur, or Batman.)\n",
    "Ans.\n",
    "Legends adds a beauty to visualize the trend of data w.r.t. different features. It creates the different trend in different colors indicating that which is belong to which trend is belong to which feature\n",
    "\n"
   ]
  },
  {
   "cell_type": "code",
   "execution_count": null,
   "id": "dae35a7a",
   "metadata": {},
   "outputs": [],
   "source": [
    "5. How do you restrict the duration of a pandas data frame so that it covers less than a year’s time?\n",
    "Ans.\n",
    "We can use start and end parameters for that. In start we write the date from where we are starting and at the end we write the end date. SO within this span we can restric the duration. Also we can use the parameters like periods for how much times we need the duration and we can also use the frequency parameter.\n"
   ]
  },
  {
   "cell_type": "code",
   "execution_count": null,
   "id": "46cf10c4",
   "metadata": {},
   "outputs": [],
   "source": [
    "6. What is a 180-day moving average?\n",
    "Ans.\n",
    "Moving Averages help to filter out market noise and smooth out fluctuations in price. In statistics, a moving average is a calculation used to analyze data points by creating a series of averages of different subsets of the full data set.\n",
    "180-day moving average means A simple moving average (SMA) is a arithmetic mean of a given set of prices over the 180 days in the past\n"
   ]
  },
  {
   "cell_type": "code",
   "execution_count": null,
   "id": "51124596",
   "metadata": {},
   "outputs": [],
   "source": []
  }
 ],
 "metadata": {
  "kernelspec": {
   "display_name": "Python 3",
   "language": "python",
   "name": "python3"
  },
  "language_info": {
   "codemirror_mode": {
    "name": "ipython",
    "version": 3
   },
   "file_extension": ".py",
   "mimetype": "text/x-python",
   "name": "python",
   "nbconvert_exporter": "python",
   "pygments_lexer": "ipython3",
   "version": "3.8.8"
  }
 },
 "nbformat": 4,
 "nbformat_minor": 5
}
