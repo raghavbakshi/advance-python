{
 "cells": [
  {
   "cell_type": "code",
   "execution_count": null,
   "id": "797ba9d9",
   "metadata": {},
   "outputs": [],
   "source": [
    "1. What are the advantages, if any, of the built-in array package?\n",
    "Ans.\n",
    "•\tArrays represent multiple data items of the same type using a single name.\n",
    "•\tIn arrays, the elements can be accessed randomly by using the index number.\n",
    "•\tArrays allocate memory in contiguous memory locations for all its elements. Hence there is no chance of extra memory being allocated in case of arrays. This avoids memory overflow or shortage of memory in arrays.\n"
   ]
  },
  {
   "cell_type": "code",
   "execution_count": null,
   "id": "685f5f22",
   "metadata": {},
   "outputs": [],
   "source": [
    "2. What are some limitations of the array package?\n",
    "Ans\n",
    "•\tThe number of elements to be stored in an array should be known in advance.\n",
    "•\tAn array is a static structure (which means the array is of fixed size). Once declared the size of the array cannot be modified. The memory which is allocated to it cannot be increased or decreased.\n",
    "•\tInsertion and deletion are quite difficult in an array as the elements are stored in consecutive memory locations and the shifting operation is costly.\n",
    "•\tAllocating more memory than the requirement leads to wastage of memory space and less allocation of memory also leads to a problem.\n"
   ]
  },
  {
   "cell_type": "code",
   "execution_count": null,
   "id": "6f451909",
   "metadata": {},
   "outputs": [],
   "source": [
    "3. State some major differences between the array package and numpy.\n",
    "Ans.\n",
    "•\tThe array package doesn't provide any help with numerical calculation with the items insdie it in number form while NumPy give you a wide variety of numerical operations\n",
    "•\tAn array is a single dimensional entity which hold the numerical data, while numpy can have more than 1 dimension.\n",
    "•\tIn case of array, item can be accessed by its index position and it is easy task while in numpy item is accessed by its column and row index, which makes it slightly time taking. Same goes with appending operation.\n",
    "•\tIn case of array we do not form a tabular structure, while in numpy it forms a tabular structure\n"
   ]
  },
  {
   "cell_type": "code",
   "execution_count": null,
   "id": "9de398f4",
   "metadata": {},
   "outputs": [],
   "source": [
    "4. Describe the differences between the empty, ones, and zeros functions.\n",
    "Ans.\n",
    "empty function: An empty function is a function that does not contain any statement within its body. If you try to write a function definition without any statement in python ,it will return an error. To avoid this, we use pass statement. pass is a special statement in Python that does nothing. It only works as a dummy statement\n",
    "ones: This function returns a new array of given shape and data type, where the element’s value is 1.\n",
    "zeros: This function returns a new array of given shape and data type, where the element’s value is 0\n"
   ]
  },
  {
   "cell_type": "code",
   "execution_count": null,
   "id": "dd33a09b",
   "metadata": {},
   "outputs": [],
   "source": [
    "5. What is the role of the callable argument in the fromfunction function used to create new arrays?\n",
    "Ans.\n",
    "Its function is to execute the function over each coordinate and the resulting array. The function is called with N parameters, where N is the rank of shape. Each parameter represents the coordinates of the array varying along a specific axis.\n"
   ]
  },
  {
   "cell_type": "code",
   "execution_count": null,
   "id": "7b9a638c",
   "metadata": {},
   "outputs": [],
   "source": [
    "6. What happens when a numpy array is combined with a single-value operand (a scalar, such as an int or a floating-point value) through addition, as in the expression A + n?\n",
    "Ans.\n",
    "If any scaler value such as integer is added to the numpy array then all the elements inside the array will add that value in it.\n",
    "Example\n",
    "\n",
    "import numpy as np\n",
    "\n",
    "a=np.arange(9).reshape(3,3)\n",
    "print(a)\n",
    "print()\n",
    "print(a+1)\n",
    "[[0 1 2]\n",
    " [3 4 5]\n",
    " [6 7 8]]\n",
    "\n",
    "[[1 2 3]\n",
    " [4 5 6]\n",
    " [7 8 9]]\n"
   ]
  },
  {
   "cell_type": "code",
   "execution_count": null,
   "id": "5d302258",
   "metadata": {},
   "outputs": [],
   "source": [
    "7. Can combined operation-assign operators (such as += or *=) be used in array-to-scalar operation? What is the effect?\n",
    "Ans.\n",
    "It will do the operation as per operators. Like if we use + operand it will update the current array by adding and when we use '*', it will update by multiplying.\n",
    "Example\n",
    "\n",
    "print(a)\n",
    "[[0 1 2]\n",
    " [3 4 5]\n",
    " [6 7 8]]\n",
    "\n",
    "a+=1\n",
    "\n",
    "print(a)\n",
    "[[1 2 3]\n",
    " [4 5 6]\n",
    " [7 8 9]]\n",
    "\n",
    "a*=2\n",
    "\n",
    "print(a)\n"
   ]
  },
  {
   "cell_type": "code",
   "execution_count": null,
   "id": "888d2c70",
   "metadata": {},
   "outputs": [],
   "source": [
    "8. Can fixed-length strings be included in a numpy array? What happens when a string of longer length is assigned to such an array?\n",
    "Ans,\n",
    "Yes it is possible that we can include a string of fixed length in numpy array. The dtype of any numpy array containing string values is the maximum length of any string present in the array.\n",
    "Once set, it will only be able to store new string having length not more than the maximum length at the time of the creation. If we try to reassign some another string value having length greater than the maximum length of the existing elements, it simply discards all the values beyond the maximum length accept upto those values which are under the limit\n",
    "\n",
    "import numpy as np\n",
    "\n",
    "name = np.array(['ram', 'mohan', 'shiva'])\n",
    "\n",
    "name[name=='ram']='undertaker'\n",
    "print(name) #not gone beyond maximum length 5\n"
   ]
  },
  {
   "cell_type": "code",
   "execution_count": null,
   "id": "bdda2d2c",
   "metadata": {},
   "outputs": [],
   "source": [
    "9. What happens when two numpy arrays are combined through an operation such as addition (+) or multiplication (*)? What requirements must be met to combine two numpy arrays?\n",
    "Ans.\n",
    "It will simply add or multiply element to element at same position.\n",
    "The only requirement which must be met are:\n",
    "* Data type should be same\n",
    "* Shape of the two matrices must be same\n",
    "\n",
    "\n",
    "Example is given below\n",
    "In [65]:\n",
    "a1=a\n",
    "a1\n",
    "Out[65]:\n",
    "array([[ 2,  4,  6],\n",
    "       [ 8, 10, 12],\n",
    "       [14, 16, 18]])\n",
    "In [59]:\n",
    "a2=a+2\n",
    "a2\n",
    "Out[59]:\n",
    "array([[ 4,  6,  8],\n",
    "       [10, 12, 14],\n",
    "       [16, 18, 20]])\n",
    "In [66]:\n",
    "a1+a2\n",
    "Out[66]:\n",
    "array([[ 6, 10, 14],\n",
    "       [18, 22, 26],\n",
    "       [30, 34, 38]])\n",
    "a1*a2\n",
    "a1+a2.reshape(9,1)"
   ]
  },
  {
   "cell_type": "code",
   "execution_count": null,
   "id": "2abff0b6",
   "metadata": {},
   "outputs": [],
   "source": [
    "10. How do you use a Boolean array as a mask for another array?\n",
    "In [34]:\n",
    "y = np.array([True,True,False,True])          \n",
    "x = np.array([1,2,3,4])         \n",
    "m = np.ma.masked_where(x>2,y)  \n",
    "print(list(m))\n",
    "# print(m.ndim)\n",
    "[True, True, masked, masked]\n"
   ]
  },
  {
   "cell_type": "code",
   "execution_count": null,
   "id": "afdb9782",
   "metadata": {},
   "outputs": [],
   "source": [
    "11. What are three distinct ways, using both standard Python and its packages, to get the standard deviation of a large set of data? Rank the three of them according to execution speed.\n",
    "Ans.\n",
    "Standard deviation can be calculated in amny ways. If wee see the formula of SD, it says\n",
    "std= Square Root of [ Summation of [square of (x-mean)/number of observation] ]\n",
    "So this can be achive by:\n",
    "In [ ]:\n",
    "# 1) Using math module\n",
    "import math\n",
    "avg=a\n",
    "total=N\n",
    "x=[1,2]\n",
    "SD=math.sqrt((1-a)**2+(2-a)**2/N)\n",
    "In [25]:\n",
    "# 2) Using Numpy Array package\n",
    "\n",
    "import numpy as np\n",
    "\n",
    "SD=np.std(x)\n",
    "In [ ]:\n",
    "# 3) General calculation without using any package\n",
    "\n",
    "SD= (((1-avg)**2 + (2-avg)**2)/N)**1/2\n"
   ]
  },
  {
   "cell_type": "code",
   "execution_count": null,
   "id": "da7b76a3",
   "metadata": {},
   "outputs": [],
   "source": [
    "12. What is the dimensionality of an array produced by a Boolean mask?\n",
    "Ans. It will be same as that of the given array.\n",
    "Example we have two aray of same dimensions say 1, then the array produced by given array will be of same dimension\n",
    "In [37]:\n",
    "y = np.array([True,True,False,True])          \n",
    "x = np.array([1,2,3,4])         \n",
    "m = np.ma.masked_where(x>2,y)  \n",
    "print(list(m))\n",
    "print()\n",
    "print('Dimension is',m.ndim)\n",
    "[True, True, masked, masked]\n",
    "\n",
    "Dimension is 1\n"
   ]
  }
 ],
 "metadata": {
  "kernelspec": {
   "display_name": "Python 3",
   "language": "python",
   "name": "python3"
  },
  "language_info": {
   "codemirror_mode": {
    "name": "ipython",
    "version": 3
   },
   "file_extension": ".py",
   "mimetype": "text/x-python",
   "name": "python",
   "nbconvert_exporter": "python",
   "pygments_lexer": "ipython3",
   "version": "3.8.8"
  }
 },
 "nbformat": 4,
 "nbformat_minor": 5
}
