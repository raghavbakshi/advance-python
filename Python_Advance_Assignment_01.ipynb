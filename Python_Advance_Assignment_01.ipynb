{
 "cells": [
  {
   "cell_type": "markdown",
   "id": "a655f1d2",
   "metadata": {},
   "source": [
    "# Q1. What is the purpose of Python's OOP?"
   ]
  },
  {
   "cell_type": "markdown",
   "id": "2192506b",
   "metadata": {},
   "source": [
    "Reusability (Inheritance), hiding the implementation and attributes (Abstraction), polymorphism (using the same method for multiple purposes depending on the object of the class), and so on."
   ]
  },
  {
   "cell_type": "markdown",
   "id": "0949bf1b",
   "metadata": {},
   "source": [
    "# Q2. Where does an inheritance search look for an attribute?"
   ]
  },
  {
   "cell_type": "markdown",
   "id": "1e24956a",
   "metadata": {},
   "source": [
    "If __init__() is present in child class and the object is of child class, it will first look in the child class. If __init__() is absent in child class but present in parent class, it will check in parent class. If __init__() is absent in both classes, it will first check the attribute in child class. If it is not present in child class, it will go to parent class and check there."
   ]
  },
  {
   "cell_type": "markdown",
   "id": "f5799a24",
   "metadata": {},
   "source": [
    "# Q3. How do you distinguish between a class object and an instance object?"
   ]
  },
  {
   "cell_type": "markdown",
   "id": "9b7352db",
   "metadata": {},
   "source": [
    "Object is instance of class and instance means representative of class"
   ]
  },
  {
   "cell_type": "markdown",
   "id": "b9768b76",
   "metadata": {},
   "source": [
    "# Q4. What makes the first argument in a class’s method function special?"
   ]
  },
  {
   "cell_type": "markdown",
   "id": "9a966ab3",
   "metadata": {},
   "source": [
    "It is an instance of the class because it points to the current object and combines the arguments with the class's attributes. It allows us to access the class's characteristics, such as self(commonly used). Any other term will suffice."
   ]
  },
  {
   "cell_type": "markdown",
   "id": "a33b21ec",
   "metadata": {},
   "source": [
    "# Q5. What is the purpose of the __init__ method?"
   ]
  },
  {
   "cell_type": "markdown",
   "id": "676c7660",
   "metadata": {},
   "source": [
    "This dunder method is a specific function Object() that is used to set up the object's state. It sets the values for the class's data members/attributes as soon as the class's object is formed."
   ]
  },
  {
   "cell_type": "markdown",
   "id": "fb128fe6",
   "metadata": {},
   "source": [
    "# Q6. What is the process for creating a class instance?"
   ]
  },
  {
   "cell_type": "markdown",
   "id": "6883746a",
   "metadata": {},
   "source": [
    "To make instances of a class, you call it by its name and give any parameters its __init__ method accepts, and __init__() sets the values for the class's data members/attributes."
   ]
  },
  {
   "cell_type": "markdown",
   "id": "08d2938f",
   "metadata": {},
   "source": [
    "# Q7. What is the process for creating a class?"
   ]
  },
  {
   "cell_type": "markdown",
   "id": "c90cc5fa",
   "metadata": {},
   "source": [
    "Class variables, class methods, instance methods, instance variables, static methods, and __init__() are all included in the class.\n",
    "Although all of these things are optional, the class keyword is critical."
   ]
  },
  {
   "cell_type": "markdown",
   "id": "3debaf41",
   "metadata": {},
   "source": [
    "# Q8. How would you define the superclasses of a class?"
   ]
  },
  {
   "cell_type": "markdown",
   "id": "95e64010",
   "metadata": {},
   "source": [
    "All characteristics and methods from the superclass can be inherited by the child class, making the program/child class less complex and allowing for reusability."
   ]
  }
 ],
 "metadata": {
  "kernelspec": {
   "display_name": "Python 3",
   "language": "python",
   "name": "python3"
  },
  "language_info": {
   "codemirror_mode": {
    "name": "ipython",
    "version": 3
   },
   "file_extension": ".py",
   "mimetype": "text/x-python",
   "name": "python",
   "nbconvert_exporter": "python",
   "pygments_lexer": "ipython3",
   "version": "3.8.8"
  }
 },
 "nbformat": 4,
 "nbformat_minor": 5
}
